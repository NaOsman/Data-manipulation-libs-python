{
 "cells": [
  {
   "cell_type": "code",
   "execution_count": 198,
   "metadata": {},
   "outputs": [
    {
     "name": "stdout",
     "output_type": "stream",
     "text": [
      "hello world\n"
     ]
    }
   ],
   "source": [
    "print('hello world')"
   ]
  },
  {
   "cell_type": "code",
   "execution_count": 199,
   "metadata": {},
   "outputs": [
    {
     "name": "stdout",
     "output_type": "stream",
     "text": [
      "integer: 10\n",
      "string: pakistan\n"
     ]
    }
   ],
   "source": [
    "x = 10\n",
    "y = 'pakistan'\n",
    "\n",
    "print('integer:',x)\n",
    "print('string:',y)\n"
   ]
  },
  {
   "cell_type": "code",
   "execution_count": 200,
   "metadata": {},
   "outputs": [
    {
     "name": "stdout",
     "output_type": "stream",
     "text": [
      "converted to string\n"
     ]
    }
   ],
   "source": [
    "x = 10\n",
    "x = 'converted to string'\n",
    "print(x)"
   ]
  },
  {
   "cell_type": "code",
   "execution_count": 201,
   "metadata": {},
   "outputs": [],
   "source": [
    "#Legal variable names:\n",
    "myvar = \"John\"\n",
    "my_var = \"John\"\n",
    "_my_var = \"John\"\n",
    "myVar = \"John\"\n",
    "MYVAR = \"John\"\n",
    "myvar2 = \"John\"\n",
    "\n",
    "#Illegal variable names:\n",
    "#2myvar = \"John\" \n",
    "#my-var = \"John\"\n",
    "#my var = \"John\""
   ]
  },
  {
   "cell_type": "code",
   "execution_count": 202,
   "metadata": {},
   "outputs": [
    {
     "name": "stdout",
     "output_type": "stream",
     "text": [
      "cherry\n",
      "banana\n",
      "apple\n"
     ]
    }
   ],
   "source": [
    "x_str = \"Hello World\"\n",
    "x_int = 20\n",
    "x_flt = 20.5\n",
    "x_com = 1j\n",
    "x_list = [\"apple\", \"banana\", \"cherry\", 9]\n",
    "x_tpl = (\"apple\", \"banana\", \"cherry\")\n",
    "x_range = range(3,6)\n",
    "x_dic = {\"name\" : \"John\", \"age\" : 36}\n",
    "x_set = {\"apple\", \"banana\", \"cherry\"}\n",
    "x_fset = frozenset({\"apple\", \"banana\", \"cherry\"}) \n",
    "x_bol = True\n",
    "\n",
    "#print(type(x_rang))\n",
    "\n",
    "for i in x_fset:\n",
    "    print(i)\n",
    "    \n"
   ]
  },
  {
   "cell_type": "code",
   "execution_count": 203,
   "metadata": {},
   "outputs": [
    {
     "name": "stdout",
     "output_type": "stream",
     "text": [
      "{1, 3}\n",
      "{1, 2, 3}\n",
      "{1, 2, 3, 4}\n",
      "{1, 2, 3, 4, 5, 6, 8}\n"
     ]
    }
   ],
   "source": [
    "my_set = {1, 3}\n",
    "print(my_set)\n",
    "\n",
    "\n",
    "\n",
    "my_set.add(2)\n",
    "print(my_set)\n",
    "\n",
    "\n",
    "my_set.update([2, 3, 4])\n",
    "print(my_set)\n",
    "\n",
    "\n",
    "my_set.update([4, 5], {1, 6, 8})\n",
    "print(my_set)\n"
   ]
  },
  {
   "cell_type": "code",
   "execution_count": 204,
   "metadata": {},
   "outputs": [
    {
     "name": "stdout",
     "output_type": "stream",
     "text": [
      "{1, 3, 4, 5, 6}\n",
      "{1, 3, 5, 6}\n",
      "{1, 3, 5}\n",
      "{1, 3, 5}\n"
     ]
    }
   ],
   "source": [
    "\n",
    "my_set = {1, 3, 4, 5, 6}\n",
    "print(my_set)\n",
    "\n",
    "my_set.discard(4)\n",
    "print(my_set)\n",
    "\n",
    "my_set.remove(6)\n",
    "print(my_set)\n",
    "\n",
    "my_set.discard(2)\n",
    "print(my_set)\n",
    "\n"
   ]
  },
  {
   "cell_type": "code",
   "execution_count": 205,
   "metadata": {},
   "outputs": [],
   "source": [
    "x_str = str(\"Hello World\")\n",
    "x_int = int(100)\n",
    "x_flt = float(100.5)\n",
    "x_comp = complex(2j)\n",
    "x_list = list((\"apple\", \"banana\", \"cherry\"))\n",
    "x_tpl = tuple((\"apple\", \"banana\", \"cherry\"))\n",
    "x_rang = range(10)\n",
    "x_dic = dict(name=\"Ali\", age=40)\n",
    "x_set = set((\"apple\", \"banana\", \"cherry\"))\n",
    "x_fset = frozenset((\"apple\", \"banana\", \"cherry\"))\n",
    "x_bol = bool(15)\n",
    "x_byt = bytes(15)\n",
    "x_byt_arr = bytearray(15)\n",
    "x_mem = memoryview(bytes(15))"
   ]
  },
  {
   "cell_type": "code",
   "execution_count": 206,
   "metadata": {},
   "outputs": [
    {
     "name": "stdout",
     "output_type": "stream",
     "text": [
      "202020\n",
      "60\n"
     ]
    }
   ],
   "source": [
    "value = '20'\n",
    "prod_str = value * 3\n",
    "prod_int = int(value) * 3\n",
    "\n",
    "print(prod_str)\n",
    "print(prod_int)"
   ]
  },
  {
   "cell_type": "code",
   "execution_count": 207,
   "metadata": {},
   "outputs": [
    {
     "name": "stdout",
     "output_type": "stream",
     "text": [
      "\n"
     ]
    }
   ],
   "source": [
    "x_comp = ''\n",
    "print(x_comp)"
   ]
  },
  {
   "cell_type": "code",
   "execution_count": 208,
   "metadata": {},
   "outputs": [
    {
     "name": "stdout",
     "output_type": "stream",
     "text": [
      "{'name': 'Ali', 'age': 40}\n"
     ]
    }
   ],
   "source": [
    "print(x_dic)"
   ]
  },
  {
   "cell_type": "code",
   "execution_count": 209,
   "metadata": {},
   "outputs": [
    {
     "name": "stdout",
     "output_type": "stream",
     "text": [
      "5\n"
     ]
    }
   ],
   "source": [
    "x = int(20)   \n",
    "y = int(5.8)\n",
    "z = int(\"12\") \n",
    "\n",
    "print(y)"
   ]
  },
  {
   "cell_type": "code",
   "execution_count": 210,
   "metadata": {},
   "outputs": [
    {
     "name": "stdout",
     "output_type": "stream",
     "text": [
      "5.6\n"
     ]
    }
   ],
   "source": [
    "x = float(30)     \n",
    "y = float(4.5)  \n",
    "z = float(\"456\")  \n",
    "w = float(\"5.6\")\n",
    "\n",
    "print(w)"
   ]
  },
  {
   "cell_type": "code",
   "execution_count": 211,
   "metadata": {},
   "outputs": [
    {
     "name": "stdout",
     "output_type": "stream",
     "text": [
      "Values are 1, 2, 4..\n"
     ]
    }
   ],
   "source": [
    "x = str(\"Values are 1, 2, 4..\") \n",
    "y = str(56)  \n",
    "z = str(20.0)  \n",
    "print(x)"
   ]
  },
  {
   "cell_type": "code",
   "execution_count": 212,
   "metadata": {},
   "outputs": [
    {
     "name": "stdout",
     "output_type": "stream",
     "text": [
      "True\n",
      "False\n",
      "True\n",
      "False\n",
      "False\n"
     ]
    }
   ],
   "source": [
    "x = True\n",
    "y = False\n",
    "\n",
    "print(x)\n",
    "print(y)\n",
    "print(10 > 9)\n",
    "print(10 == 9)\n",
    "print(10 < 9)\n"
   ]
  },
  {
   "cell_type": "code",
   "execution_count": 213,
   "metadata": {},
   "outputs": [
    {
     "name": "stdout",
     "output_type": "stream",
     "text": [
      "X is True\n"
     ]
    }
   ],
   "source": [
    "if (x):\n",
    "    print(\"X is True\")\n",
    "else:\n",
    "    print(\"X is False\")\n",
    "        "
   ]
  },
  {
   "cell_type": "code",
   "execution_count": 214,
   "metadata": {},
   "outputs": [
    {
     "name": "stdout",
     "output_type": "stream",
     "text": [
      "False\n",
      "True\n",
      "True\n"
     ]
    }
   ],
   "source": [
    "print(bool(0))\n",
    "print(bool(1))\n",
    "print(bool(-1))\n"
   ]
  },
  {
   "cell_type": "code",
   "execution_count": 215,
   "metadata": {},
   "outputs": [
    {
     "name": "stdout",
     "output_type": "stream",
     "text": [
      "True\n",
      "False\n",
      "False\n",
      "True\n",
      "True\n",
      "False\n",
      "False\n"
     ]
    }
   ],
   "source": [
    "print(bool(\"Hello\"))\n",
    "print(bool(''))\n",
    "print(bool(\"\"))\n",
    "print(bool(' '))\n",
    "print(bool('None'))\n",
    "print(bool(None))\n",
    "\n",
    "x= None\n",
    "if (x):\n",
    "    print(\"True\")\n",
    "else:\n",
    "    print(\"False\")\n",
    "        "
   ]
  },
  {
   "cell_type": "code",
   "execution_count": 216,
   "metadata": {},
   "outputs": [
    {
     "name": "stdout",
     "output_type": "stream",
     "text": [
      "False\n",
      "False\n",
      "False\n",
      "False\n"
     ]
    }
   ],
   "source": [
    "print(bool(None))\n",
    "print(bool(()))\n",
    "print(bool([]))\n",
    "print(bool({}))"
   ]
  },
  {
   "cell_type": "code",
   "execution_count": 217,
   "metadata": {},
   "outputs": [
    {
     "name": "stdout",
     "output_type": "stream",
     "text": [
      "225\n",
      "7\n"
     ]
    }
   ],
   "source": [
    "\n",
    "x = 15 \n",
    "y = 2\n",
    "\n",
    "res_add = x + y\n",
    "res_sub = x - y\n",
    "res_mul = x * y\n",
    "res_div = x / y\n",
    "res_mod = x % y\n",
    "res_floor = x // y \n",
    "res_exp = x ** y\n",
    "print(res_exp)\n",
    "print(res_floor)"
   ]
  },
  {
   "cell_type": "code",
   "execution_count": 218,
   "metadata": {},
   "outputs": [
    {
     "name": "stdout",
     "output_type": "stream",
     "text": [
      "x:  5\n",
      "x + 3:  8\n",
      "x - 3:  5\n",
      "x * 3:  15\n",
      "x / 3:  5.0\n",
      "x ** 3:  125.0\n",
      "x // 3:  41.0\n",
      "x % 3:  2.0\n"
     ]
    }
   ],
   "source": [
    "# Python Assignment Operators\n",
    "x = 5 \n",
    "print(\"x: \", x)\n",
    "\n",
    "x += 3\n",
    "print(\"x + 3: \", x)\n",
    "x -= 3\n",
    "print(\"x - 3: \", x)\n",
    "x *= 3\n",
    "print(\"x * 3: \", x)\n",
    "x /= 3\n",
    "print(\"x / 3: \", x)\n",
    "x **= 3 \n",
    "print(\"x ** 3: \", x)\n",
    "x //= 3 \n",
    "print(\"x // 3: \", x)\n",
    "x %= 3\n",
    "print(\"x % 3: \", x)"
   ]
  },
  {
   "cell_type": "code",
   "execution_count": 219,
   "metadata": {},
   "outputs": [
    {
     "name": "stdout",
     "output_type": "stream",
     "text": [
      "\n",
      "x:  6\n",
      "x & 3:  2\n",
      "\n",
      "x:  7\n",
      "x | 3:  7\n",
      "\n",
      "x:  6\n",
      "x ^ 3:  5\n",
      "\n",
      "x:  6\n",
      "x >> 3:  1\n",
      "\n",
      "x:  6\n",
      "x << 3:  48\n"
     ]
    }
   ],
   "source": [
    "\n",
    "x = 6\n",
    "print(\"\\nx: \", x)\n",
    "\n",
    "x &= 3                      \n",
    "print(\"x & 3: \", x)\n",
    "x |= 3                      \n",
    "\n",
    "x = 6\n",
    "x |= 3\n",
    "print(\"\\nx: \", x)\n",
    "print(\"x | 3: \", x)\n",
    "\n",
    "x = 6\n",
    "print(\"\\nx: \", x)\n",
    "x ^= 3                     \n",
    "print(\"x ^ 3: \", x)        \n",
    "\n",
    "x = 6\n",
    "print(\"\\nx: \", x)\n",
    "x >>= 2                      \n",
    "print(\"x >> 3: \", x)\n",
    "\n",
    "x = 6\n",
    "print(\"\\nx: \", x)\n",
    "x <<= 3                     \n",
    "print(\"x << 3: \", x)\n",
    "\n"
   ]
  },
  {
   "cell_type": "code",
   "execution_count": 220,
   "metadata": {},
   "outputs": [
    {
     "name": "stdout",
     "output_type": "stream",
     "text": [
      "5 == 7 False\n",
      "5 != 7 True\n",
      "5 > 7 False\n",
      "5 < 7 True\n",
      "5 >= 7 False\n",
      "5 <= 7 True\n"
     ]
    }
   ],
   "source": [
    "\n",
    "a = 5\n",
    "b = 7\n",
    "print(a,\"==\",b, a==b)\n",
    "print(a,\"!=\",b, a!=b)\n",
    "print(a,\">\",b, a>b)\n",
    "print(a,\"<\",b, a<b)\n",
    "print(a,\">=\",b, a>=b)\n",
    "print(a,\"<=\",b, a<=b)\n"
   ]
  },
  {
   "cell_type": "code",
   "execution_count": 221,
   "metadata": {},
   "outputs": [
    {
     "name": "stdout",
     "output_type": "stream",
     "text": [
      "True and False = False\n",
      "True or False = True\n",
      "not True = False\n"
     ]
    }
   ],
   "source": [
    "\n",
    "x = True\n",
    "y = False\n",
    "print(x, \"and\", y, \"=\", x and y)\n",
    "print(x, \"or\", y, \"=\", x or y)\n",
    "print(\"not\", x, \"=\", not x) \n",
    "\n"
   ]
  },
  {
   "cell_type": "code",
   "execution_count": 222,
   "metadata": {},
   "outputs": [
    {
     "name": "stdout",
     "output_type": "stream",
     "text": [
      "True\n",
      "False\n"
     ]
    }
   ],
   "source": [
    "\n",
    "x = 5\n",
    "y = 5\n",
    "print(x is y)      \n",
    "print(x is not y)      \n"
   ]
  },
  {
   "cell_type": "code",
   "execution_count": 223,
   "metadata": {},
   "outputs": [
    {
     "name": "stdout",
     "output_type": "stream",
     "text": [
      "True\n",
      "False\n"
     ]
    }
   ],
   "source": [
    "x = [[5,10,15],20]\n",
    "y = [5,10,15]\n",
    "print(y in x)          \n",
    "print(y not in x)"
   ]
  },
  {
   "cell_type": "code",
   "execution_count": 224,
   "metadata": {},
   "outputs": [
    {
     "name": "stdout",
     "output_type": "stream",
     "text": [
      "\n",
      "x:  6\n",
      "x & 3:  2\n",
      "\n",
      "x:  6\n",
      "x | 3:  7\n",
      "\n",
      "x:  6\n",
      "x ^ 3:  5\n",
      "\n",
      "x:  6\n",
      "x >> 3:  0\n",
      "\n",
      "x:  6\n",
      "x << 3:  48\n",
      "\n",
      "x:  6\n",
      "~x:  -7\n"
     ]
    }
   ],
   "source": [
    "\n",
    "x = 6\n",
    "print(\"\\nx: \", x)\n",
    "x &= 3                      # x = x & 3 \n",
    "print(\"x & 3: \", x)\n",
    "\n",
    "x = 6\n",
    "print(\"\\nx: \", x)\n",
    "x |= 3                      # x = x | 3\n",
    "print(\"x | 3: \", x)\n",
    "\n",
    "x = 6\n",
    "print(\"\\nx: \", x)\n",
    "x ^= 3                     \n",
    "print(\"x ^ 3: \", x)        \n",
    "\n",
    "x = 6\n",
    "print(\"\\nx: \", x)\n",
    "x >>= 3                    \n",
    "print(\"x >> 3: \", x)\n",
    "\n",
    "x = 6\n",
    "print(\"\\nx: \", x)\n",
    "x <<= 3                    \n",
    "print(\"x << 3: \", x)\n",
    "\n",
    "x = 6\n",
    "print(\"\\nx: \", x)\n",
    "x = ~x                     \n",
    "print(\"~x: \", x)\n",
    "\n"
   ]
  },
  {
   "cell_type": "code",
   "execution_count": 225,
   "metadata": {},
   "outputs": [
    {
     "name": "stdout",
     "output_type": "stream",
     "text": [
      "['apple', 'banana', 'cherry']\n"
     ]
    }
   ],
   "source": [
    "# List\n",
    "my_list = [\"apple\", \"banana\", \"cherry\"]\n",
    "print(my_list)"
   ]
  },
  {
   "cell_type": "code",
   "execution_count": 226,
   "metadata": {},
   "outputs": [
    {
     "name": "stdout",
     "output_type": "stream",
     "text": [
      "('apple', 'banana', 'cherry')\n"
     ]
    }
   ],
   "source": [
    "# Tuple\n",
    "my_list = (\"apple\", \"banana\", \"cherry\")\n",
    "print(my_list)"
   ]
  },
  {
   "cell_type": "code",
   "execution_count": 227,
   "metadata": {},
   "outputs": [
    {
     "name": "stdout",
     "output_type": "stream",
     "text": [
      "('guava', 'orange', 12)\n"
     ]
    }
   ],
   "source": [
    "mytuple = (\"apple\", \"banana\", \"cherry\", \"guava\", \"orange\", 12, 5.0,\"Ali\")\n",
    "\n",
    "print(mytuple[3:6])\n",
    "\n"
   ]
  },
  {
   "cell_type": "code",
   "execution_count": 228,
   "metadata": {},
   "outputs": [
    {
     "name": "stdout",
     "output_type": "stream",
     "text": [
      "apple\n",
      "banana\n",
      "cherry\n",
      "guava\n",
      "orange\n",
      "12\n",
      "5.0\n",
      "Ali\n"
     ]
    }
   ],
   "source": [
    "for x in mytuple:\n",
    "    print(x)"
   ]
  },
  {
   "cell_type": "code",
   "execution_count": 229,
   "metadata": {},
   "outputs": [
    {
     "name": "stdout",
     "output_type": "stream",
     "text": [
      "apple\n",
      "banana\n",
      "cherry\n",
      "guava\n",
      "orange\n",
      "12\n",
      "5.0\n",
      "Ali\n"
     ]
    }
   ],
   "source": [
    "for x in range(len(mytuple)):\n",
    "    print(mytuple[x])"
   ]
  },
  {
   "cell_type": "code",
   "execution_count": 230,
   "metadata": {},
   "outputs": [],
   "source": [
    "\n",
    "mytuple = (\"apple\", \"banana\", \"cherry\")\n",
    "del mytuple\n",
    "\n"
   ]
  },
  {
   "cell_type": "code",
   "execution_count": 231,
   "metadata": {},
   "outputs": [
    {
     "name": "stdout",
     "output_type": "stream",
     "text": [
      "('apple', 'banana', 'orange', 'guava', 'orange', 'lemon')\n"
     ]
    }
   ],
   "source": [
    "# Combining two tuples\n",
    "mytuple1 = (\"apple\", \"banana\", \"orange\")\n",
    "mytuple2 = (\"guava\", \"orange\", \"lemon\")\n",
    "mytuple3 = mytuple1 + mytuple2 \n",
    "\n",
    "print(mytuple3)"
   ]
  },
  {
   "cell_type": "code",
   "execution_count": 232,
   "metadata": {},
   "outputs": [
    {
     "name": "stdout",
     "output_type": "stream",
     "text": [
      "3\n",
      "2\n"
     ]
    }
   ],
   "source": [
    "\n",
    "index_num = mytuple3.index('guava')\n",
    "print(index_num)\n",
    "\n",
    "\n",
    "count_items = mytuple3.count('orange')\n",
    "print(count_items)\n"
   ]
  },
  {
   "cell_type": "code",
   "execution_count": 233,
   "metadata": {},
   "outputs": [
    {
     "name": "stdout",
     "output_type": "stream",
     "text": [
      "{'cherry', 'banana', 'apple'}\n"
     ]
    }
   ],
   "source": [
    "myset = {\"apple\", \"banana\", \"cherry\"}\n",
    "print(myset)"
   ]
  },
  {
   "cell_type": "code",
   "execution_count": 234,
   "metadata": {},
   "outputs": [
    {
     "name": "stdout",
     "output_type": "stream",
     "text": [
      "cherry\n",
      "banana\n",
      "apple\n"
     ]
    }
   ],
   "source": [
    "for item in myset:\n",
    "    print(item)\n"
   ]
  },
  {
   "cell_type": "code",
   "execution_count": 235,
   "metadata": {},
   "outputs": [
    {
     "name": "stdout",
     "output_type": "stream",
     "text": [
      "apple\n"
     ]
    }
   ],
   "source": [
    "if 'cherry' in myset:\n",
    "    print(item)"
   ]
  },
  {
   "cell_type": "code",
   "execution_count": 236,
   "metadata": {},
   "outputs": [
    {
     "name": "stdout",
     "output_type": "stream",
     "text": [
      "{'cherry', 'lemon', 'banana', 'apple'}\n"
     ]
    }
   ],
   "source": [
    "myset.add('lemon')\n",
    "print(myset)"
   ]
  },
  {
   "cell_type": "code",
   "execution_count": 237,
   "metadata": {},
   "outputs": [
    {
     "name": "stdout",
     "output_type": "stream",
     "text": [
      "{'cherry', 'banana', 'apple'}\n"
     ]
    }
   ],
   "source": [
    "myset.remove('lemon') # Get error if lemon not in set\n",
    "print(myset)\n",
    "\n",
    "myset.discard(\"lemon\") # No error although if lemon not in set\n"
   ]
  },
  {
   "cell_type": "code",
   "execution_count": 238,
   "metadata": {},
   "outputs": [
    {
     "name": "stdout",
     "output_type": "stream",
     "text": [
      "{'guava', 'cherry', 'apple', 'banana', 'lemon'}\n"
     ]
    }
   ],
   "source": [
    "#myset.update({'lemon','guava'}) # set  working\n",
    "#myset.update(['lemon','guava']) # list also working\n",
    "myset.update(('lemon','guava')) # tuple also working\n",
    "print(myset)"
   ]
  },
  {
   "cell_type": "code",
   "execution_count": 239,
   "metadata": {},
   "outputs": [
    {
     "name": "stdout",
     "output_type": "stream",
     "text": [
      "{'name': 'Ali', 'age': 30, 'address': 'House#400, Street#12'}\n"
     ]
    }
   ],
   "source": [
    "mydict = {\n",
    "  \"name\": \"Ali\",\n",
    "  \"age\": 30,\n",
    "  \"address\": \"House#400, Street#12\"\n",
    "}\n",
    "print(mydict)"
   ]
  },
  {
   "cell_type": "code",
   "execution_count": 240,
   "metadata": {},
   "outputs": [
    {
     "name": "stdout",
     "output_type": "stream",
     "text": [
      "Ali\n"
     ]
    }
   ],
   "source": [
    "name = mydict['name']\n",
    "print(name)"
   ]
  },
  {
   "cell_type": "code",
   "execution_count": 241,
   "metadata": {},
   "outputs": [
    {
     "name": "stdout",
     "output_type": "stream",
     "text": [
      "Ali\n"
     ]
    }
   ],
   "source": [
    "\n",
    "name = mydict.get('name')\n",
    "print(name)\n",
    "\n"
   ]
  },
  {
   "cell_type": "code",
   "execution_count": 242,
   "metadata": {},
   "outputs": [
    {
     "name": "stdout",
     "output_type": "stream",
     "text": [
      "x is less than y\n"
     ]
    }
   ],
   "source": [
    "\n",
    "\n",
    "x = 100\n",
    "y = 300\n",
    "\n",
    "if x < y:\n",
    "    print(\"x is less than y\")"
   ]
  },
  {
   "cell_type": "code",
   "execution_count": 243,
   "metadata": {},
   "outputs": [
    {
     "name": "stdout",
     "output_type": "stream",
     "text": [
      "x is not less than y\n"
     ]
    }
   ],
   "source": [
    "# If else statement\n",
    "\n",
    "x = 400\n",
    "y = 300\n",
    "\n",
    "if x < y:\n",
    "    print(\"x is less than y\")\n",
    "    \n",
    "else:\n",
    "    print(\"x is not less than y\")\n",
    "    \n",
    "    "
   ]
  },
  {
   "cell_type": "code",
   "execution_count": 244,
   "metadata": {},
   "outputs": [
    {
     "name": "stdout",
     "output_type": "stream",
     "text": [
      "Both are equal\n"
     ]
    }
   ],
   "source": [
    "\n",
    "x = 300\n",
    "y = 300\n",
    "\n",
    "if x < y:\n",
    "    print(\"x is less than y\")\n",
    "    \n",
    "elif x > y:\n",
    "    print(\"x is greater than y\")\n",
    "    \n",
    "else:\n",
    "    print(\"Both are equal\")\n",
    "    \n",
    "\n"
   ]
  },
  {
   "cell_type": "code",
   "execution_count": 245,
   "metadata": {},
   "outputs": [
    {
     "name": "stdout",
     "output_type": "stream",
     "text": [
      "x is less than y\n"
     ]
    }
   ],
   "source": [
    "x = 100\n",
    "y = 120\n",
    "if x < y: print(\"x is less than y\")"
   ]
  },
  {
   "cell_type": "code",
   "execution_count": 246,
   "metadata": {},
   "outputs": [
    {
     "name": "stdout",
     "output_type": "stream",
     "text": [
      "banana\n"
     ]
    }
   ],
   "source": [
    "x = 5\n",
    "y = 7\n",
    "my_val = \"apple\" if x > y else \"banana\" if x < y else \"cherry\"\n",
    "print(my_val)\n"
   ]
  },
  {
   "cell_type": "code",
   "execution_count": 247,
   "metadata": {},
   "outputs": [
    {
     "name": "stdout",
     "output_type": "stream",
     "text": [
      "x not greater\n",
      "y greater\n"
     ]
    }
   ],
   "source": [
    "\n",
    "\n",
    "x = 50\n",
    "y = 100\n",
    "\n",
    "\n",
    "print(\"x greater\") if x > y else print(\"x not greater\")\n",
    "\n",
    "\n",
    "print(\"x greater\") if x > y else print(\"y greater\") if x < y else print(\"Both are equal\")\n"
   ]
  },
  {
   "cell_type": "code",
   "execution_count": 248,
   "metadata": {},
   "outputs": [
    {
     "name": "stdout",
     "output_type": "stream",
     "text": [
      "Both are equal\n"
     ]
    }
   ],
   "source": [
    "\n",
    "x = 100\n",
    "y = 100\n",
    "\n",
    "\n",
    "my_val = \"x greater\" if x > y else \"y greater\" if x < y else \"Both are equal\"\n",
    "print(my_val)"
   ]
  },
  {
   "cell_type": "code",
   "execution_count": 249,
   "metadata": {},
   "outputs": [
    {
     "name": "stdout",
     "output_type": "stream",
     "text": [
      "Both are equal\n"
     ]
    }
   ],
   "source": [
    "\n",
    "x = 100\n",
    "y = 100\n",
    "\n",
    "if not (x < y) and not (x > y):\n",
    "    print(\"Both are equal\")"
   ]
  },
  {
   "cell_type": "code",
   "execution_count": 250,
   "metadata": {},
   "outputs": [
    {
     "name": "stdout",
     "output_type": "stream",
     "text": [
      "Both are equal\n"
     ]
    }
   ],
   "source": [
    "if not (x < y or x > y):\n",
    "    print(\"Both are equal\")"
   ]
  },
  {
   "cell_type": "code",
   "execution_count": 251,
   "metadata": {},
   "outputs": [
    {
     "name": "stdout",
     "output_type": "stream",
     "text": [
      "apple\n",
      "banana\n",
      "cherry\n"
     ]
    }
   ],
   "source": [
    "fruits = [\"apple\", \"banana\", \"cherry\"]\n",
    "for fruit in fruits:\n",
    "    print(fruit)"
   ]
  },
  {
   "cell_type": "code",
   "execution_count": 252,
   "metadata": {},
   "outputs": [
    {
     "name": "stdout",
     "output_type": "stream",
     "text": [
      "P\n",
      "a\n",
      "k\n",
      "i\n",
      "s\n",
      "t\n",
      "a\n",
      "n\n"
     ]
    }
   ],
   "source": [
    "\n",
    "\n",
    "for x in  \"Pakistan\":\n",
    "    print(x)"
   ]
  },
  {
   "cell_type": "code",
   "execution_count": 253,
   "metadata": {},
   "outputs": [
    {
     "name": "stdout",
     "output_type": "stream",
     "text": [
      "0\n",
      "1\n",
      "2\n",
      "3\n",
      "4\n"
     ]
    }
   ],
   "source": [
    "\n",
    "\n",
    "for i in range(5): \n",
    "    print(i)\n",
    "    "
   ]
  },
  {
   "cell_type": "code",
   "execution_count": 254,
   "metadata": {},
   "outputs": [
    {
     "name": "stdout",
     "output_type": "stream",
     "text": [
      "2\n",
      "3\n",
      "4\n"
     ]
    }
   ],
   "source": [
    "for i in range(2, 5):\n",
    "    print(i)\n"
   ]
  },
  {
   "cell_type": "code",
   "execution_count": 255,
   "metadata": {},
   "outputs": [
    {
     "name": "stdout",
     "output_type": "stream",
     "text": [
      "5050\n"
     ]
    }
   ],
   "source": [
    "\n",
    "sum = 0\n",
    "for i in range(101): \n",
    "    sum += i\n",
    "print(sum)"
   ]
  },
  {
   "cell_type": "code",
   "execution_count": 256,
   "metadata": {},
   "outputs": [
    {
     "name": "stdout",
     "output_type": "stream",
     "text": [
      "1275\n"
     ]
    }
   ],
   "source": [
    "\n",
    "sum = 0\n",
    "for i in range(101): \n",
    "    if i == 51:\n",
    "        break\n",
    "    sum += i\n",
    "    \n",
    "print(sum)"
   ]
  },
  {
   "cell_type": "code",
   "execution_count": 257,
   "metadata": {},
   "outputs": [
    {
     "name": "stdout",
     "output_type": "stream",
     "text": [
      "2550\n"
     ]
    }
   ],
   "source": [
    "\n",
    "sum = 0\n",
    "for i in range(101): \n",
    "    if i%2 != 0:\n",
    "        continue\n",
    "    sum += i\n",
    "    \n",
    "print(sum)\n"
   ]
  },
  {
   "cell_type": "code",
   "execution_count": 258,
   "metadata": {},
   "outputs": [
    {
     "name": "stdout",
     "output_type": "stream",
     "text": [
      "0,1,2,3,4,5,\n",
      "0,1,2,3,4,5,\n",
      "0,1,2,3,4,5,\n",
      "0,1,2,3,4,5,\n",
      "0,1,2,3,4,5,\n"
     ]
    }
   ],
   "source": [
    "\n",
    "for i in range(5):\n",
    "    row = \"\"\n",
    "    for j in range(6):\n",
    "        row = row + str(j) + \",\"\n",
    "    print(row)"
   ]
  },
  {
   "cell_type": "code",
   "execution_count": 259,
   "metadata": {},
   "outputs": [
    {
     "name": "stdout",
     "output_type": "stream",
     "text": [
      "5050\n"
     ]
    }
   ],
   "source": [
    "\n",
    "sum = 0\n",
    "i = 1\n",
    "while i <= 100:\n",
    "    sum += i\n",
    "    i += 1\n",
    "print(sum)"
   ]
  },
  {
   "cell_type": "code",
   "execution_count": 260,
   "metadata": {},
   "outputs": [
    {
     "name": "stdout",
     "output_type": "stream",
     "text": [
      "1275\n"
     ]
    }
   ],
   "source": [
    "\n",
    "sum = 0\n",
    "i = 1\n",
    "while i <= 100:\n",
    "    sum += i\n",
    "    i += 1\n",
    "    if i == 51:\n",
    "        break\n",
    "    \n",
    "print(sum)"
   ]
  },
  {
   "cell_type": "code",
   "execution_count": 261,
   "metadata": {},
   "outputs": [
    {
     "name": "stdout",
     "output_type": "stream",
     "text": [
      "2550\n"
     ]
    }
   ],
   "source": [
    "\n",
    "sum = 0\n",
    "i = 1\n",
    "while i <= 100:\n",
    "\n",
    "    if i%2 != 0:\n",
    "        i += 1\n",
    "        continue\n",
    "        \n",
    "    sum += i\n",
    "    i += 1\n",
    "    \n",
    "print(sum)"
   ]
  },
  {
   "cell_type": "code",
   "execution_count": 262,
   "metadata": {},
   "outputs": [
    {
     "name": "stdout",
     "output_type": "stream",
     "text": [
      "0,1,2,3,4,5,\n",
      "0,1,2,3,4,5,\n",
      "0,1,2,3,4,5,\n",
      "0,1,2,3,4,5,\n",
      "0,1,2,3,4,5,\n"
     ]
    }
   ],
   "source": [
    "\n",
    "i = 0\n",
    "while i < 5:\n",
    "    row = \"\"\n",
    "\n",
    "    j = 0\n",
    "    while j < 6:\n",
    "        row = row + str(j) + \",\"\n",
    "        j += 1\n",
    "    print(row)\n",
    "    i += 1"
   ]
  },
  {
   "cell_type": "code",
   "execution_count": 263,
   "metadata": {},
   "outputs": [],
   "source": [
    "def my_function():\n",
    "    print(\"This is my firt function in Python\")\n"
   ]
  },
  {
   "cell_type": "code",
   "execution_count": 264,
   "metadata": {},
   "outputs": [
    {
     "name": "stdout",
     "output_type": "stream",
     "text": [
      "This is my firt function in Python\n"
     ]
    }
   ],
   "source": [
    "ret_value = my_function()"
   ]
  },
  {
   "cell_type": "code",
   "execution_count": 265,
   "metadata": {},
   "outputs": [
    {
     "name": "stdout",
     "output_type": "stream",
     "text": [
      "None\n"
     ]
    }
   ],
   "source": [
    "print(ret_value)"
   ]
  },
  {
   "cell_type": "code",
   "execution_count": 266,
   "metadata": {},
   "outputs": [],
   "source": [
    "\n",
    "def my_function1(name):\n",
    "    print(\"Hello,\", name)\n",
    "\n",
    "\n",
    "def my_function2(message, name):\n",
    "    print(message , name)"
   ]
  },
  {
   "cell_type": "code",
   "execution_count": 267,
   "metadata": {},
   "outputs": [
    {
     "name": "stdout",
     "output_type": "stream",
     "text": [
      "Hello, World\n",
      "Hello, World\n"
     ]
    }
   ],
   "source": [
    "my_function1(\"World\")\n",
    "my_function2(\"Hello,\", \"World\")"
   ]
  },
  {
   "cell_type": "code",
   "execution_count": 268,
   "metadata": {},
   "outputs": [
    {
     "name": "stdout",
     "output_type": "stream",
     "text": [
      "Ali\n",
      "40\n",
      "Street#123\n"
     ]
    }
   ],
   "source": [
    "\n",
    "\n",
    "def my_function(*args):\n",
    "    args[0]\n",
    "    for arg in args:\n",
    "        print(arg)\n",
    "\n",
    "my_function(\"Ali\", 40, \"Street#123\")\n"
   ]
  },
  {
   "cell_type": "code",
   "execution_count": 269,
   "metadata": {},
   "outputs": [
    {
     "name": "stdout",
     "output_type": "stream",
     "text": [
      "Ali\n",
      "40\n",
      "Street#123\n"
     ]
    }
   ],
   "source": [
    "\n",
    "\n",
    "def my_function(*args):\n",
    "    args[0]\n",
    "    for arg in args:\n",
    "        print(arg)\n",
    "\n",
    "my_function(\"Ali\", 40, \"Street#123\")\n"
   ]
  },
  {
   "cell_type": "code",
   "execution_count": 270,
   "metadata": {},
   "outputs": [
    {
     "name": "stdout",
     "output_type": "stream",
     "text": [
      "Ali\n",
      "40\n",
      "Street#123\n"
     ]
    }
   ],
   "source": [
    "# Arbitrary Keyword Arguments, **kwargs\n",
    "\n",
    "def my_function(**args):\n",
    "    print(args['name'])\n",
    "    print(args['age'])\n",
    "    print(args['address'])\n",
    "    \n",
    "    \n",
    "\n",
    "my_function(name=\"Ali\", age=40, address=\"Street#123\")\n"
   ]
  },
  {
   "cell_type": "code",
   "execution_count": 271,
   "metadata": {},
   "outputs": [
    {
     "name": "stdout",
     "output_type": "stream",
     "text": [
      "No Name\n",
      "40\n",
      "No Address\n"
     ]
    }
   ],
   "source": [
    "\n",
    "\n",
    "def my_function(age, name='No Name', address=\"No Address\"):\n",
    "    print(name)\n",
    "    print(age)\n",
    "    print(address)\n",
    "    \n",
    "my_function(age=40)\n"
   ]
  },
  {
   "cell_type": "code",
   "execution_count": 272,
   "metadata": {},
   "outputs": [
    {
     "name": "stdout",
     "output_type": "stream",
     "text": [
      "['Ali', 30, 'Adress']\n"
     ]
    }
   ],
   "source": [
    "\n",
    "def my_function(values):\n",
    "    print(values)\n",
    "    \n",
    "my_function(['Ali',30,'Adress'])\n",
    "\n"
   ]
  },
  {
   "cell_type": "code",
   "execution_count": 273,
   "metadata": {},
   "outputs": [],
   "source": [
    "\n",
    "def my_function():\n",
    "    pass\n",
    "    \n",
    "my_function()\n"
   ]
  },
  {
   "cell_type": "code",
   "execution_count": 274,
   "metadata": {},
   "outputs": [
    {
     "name": "stdout",
     "output_type": "stream",
     "text": [
      "\n",
      "\n",
      "Fibonacci number at position  8  is 13\n"
     ]
    }
   ],
   "source": [
    "\n",
    "def fib(n):\n",
    "    if(n <= 1):\n",
    "        return 0\n",
    "    \n",
    "    elif(n == 2):\n",
    "        return 1\n",
    "    \n",
    "    else:\n",
    "        return fib(n-2) + fib(n-1)\n",
    "    \n",
    "n = 8\n",
    "print(\"\\n\\nFibonacci number at position \", n, \" is\", fib(n))"
   ]
  },
  {
   "cell_type": "code",
   "execution_count": 275,
   "metadata": {},
   "outputs": [
    {
     "name": "stdout",
     "output_type": "stream",
     "text": [
      "\n",
      "Sum:  5050\n"
     ]
    }
   ],
   "source": [
    "\n",
    "def sum(n):\n",
    "    if(n <= 1):\n",
    "        return 1    \n",
    "    else:\n",
    "        return n + sum(n-1)\n",
    "    \n",
    "print(\"\\nSum: \", sum(100))"
   ]
  },
  {
   "cell_type": "code",
   "execution_count": 276,
   "metadata": {},
   "outputs": [
    {
     "name": "stdout",
     "output_type": "stream",
     "text": [
      "20\n"
     ]
    }
   ],
   "source": [
    "x = lambda a, b : a + b\n",
    "\n",
    "\n",
    "print(x(5,15))"
   ]
  },
  {
   "cell_type": "code",
   "execution_count": 277,
   "metadata": {},
   "outputs": [
    {
     "name": "stdout",
     "output_type": "stream",
     "text": [
      "33\n"
     ]
    }
   ],
   "source": [
    "\n",
    "def myfunc(n):\n",
    "    return lambda a : a * n\n",
    "\n",
    "lamda_func = myfunc(3) \n",
    "\n",
    "print(lamda_func(11))\n"
   ]
  },
  {
   "cell_type": "code",
   "execution_count": 278,
   "metadata": {},
   "outputs": [
    {
     "name": "stdout",
     "output_type": "stream",
     "text": [
      "81\n"
     ]
    }
   ],
   "source": [
    "\n",
    "def myfunc2(n):\n",
    "    return lambda a : n ** a  \n",
    "\n",
    "lamda_func2 = myfunc2(3)       \n",
    "\n",
    "\n",
    "print(lamda_func2(4))"
   ]
  },
  {
   "cell_type": "code",
   "execution_count": 279,
   "metadata": {},
   "outputs": [],
   "source": [
    "class MyClass:\n",
    "    name = 'Sahir'"
   ]
  },
  {
   "cell_type": "code",
   "execution_count": 280,
   "metadata": {},
   "outputs": [
    {
     "data": {
      "text/plain": [
       "'Sahir'"
      ]
     },
     "execution_count": 280,
     "metadata": {},
     "output_type": "execute_result"
    }
   ],
   "source": [
    "my_obj = MyClass()\n",
    "my_obj.name"
   ]
  },
  {
   "cell_type": "code",
   "execution_count": 281,
   "metadata": {},
   "outputs": [
    {
     "data": {
      "text/plain": [
       "'Hayatabad'"
      ]
     },
     "execution_count": 281,
     "metadata": {},
     "output_type": "execute_result"
    }
   ],
   "source": [
    "\n",
    "class MyClass:\n",
    "    def __init__(self, name, age=0, address='No Address'):\n",
    "        self.name = name\n",
    "        self.age = age\n",
    "        self.address = address\n",
    "    \n",
    "my_obj = MyClass('Khan', 43, 'Hayatabad')\n",
    "my_obj.address"
   ]
  },
  {
   "cell_type": "code",
   "execution_count": 282,
   "metadata": {},
   "outputs": [
    {
     "name": "stdout",
     "output_type": "stream",
     "text": [
      "Khan\n",
      "33\n",
      "Hayatabad\n"
     ]
    }
   ],
   "source": [
    "\n",
    "class MyClass:\n",
    "    def __init__(self, name, age=0, address='No Address'):\n",
    "        self.name = name         \n",
    "        self._age = age            \n",
    "        self.__address = address  \n",
    "    \n",
    "    def get_name(self):\n",
    "        return self.name\n",
    "    \n",
    "    def get_age(self):\n",
    "        return self._age -10\n",
    "\n",
    "    def get_address(self):\n",
    "        return self.__address\n",
    "\n",
    "my_obj = MyClass('Khan', 43, 'Hayatabad')\n",
    "\n",
    "print(my_obj.get_name())\n",
    "print(my_obj.get_age())\n",
    "print(my_obj.get_address())"
   ]
  },
  {
   "cell_type": "code",
   "execution_count": 283,
   "metadata": {},
   "outputs": [
    {
     "name": "stdout",
     "output_type": "stream",
     "text": [
      "Muhammad Khan with specialization  Information Security\n",
      "Muhammad Khan with specialization  Information Security\n",
      "First Name: Muhammad, Last Name: Khan, Specialization: Information Security\n"
     ]
    }
   ],
   "source": [
    "# Inheritance \n",
    "class Employee:\n",
    "    def __init__(self, fname, lname):\n",
    "        self.firstname = fname\n",
    "        self._lastname = lname\n",
    "\n",
    "    def __str__(self):\n",
    "        return self.firstname + \" \" + self._lastname\n",
    "    \n",
    "    def __repr__(self): \n",
    "        return 'First Name: {}, Last Name: {}'.format(self.firstname,self._lastname) \n",
    "\n",
    "class Teacher(Employee):\n",
    "    def __init__(self, fname, lname, specialization):\n",
    "\n",
    "        super().__init__(fname, lname)\n",
    "        self.specialization = specialization\n",
    "    \n",
    "    def __str__(self):\n",
    "        return super().__str__() + \" with specialization  \" + self.specialization\n",
    "\n",
    "    def __repr__(self): \n",
    "        return super().__repr__() + ', Specialization: {}'.format(self.specialization) \n",
    "\n",
    "\n",
    "teacher_obj = Teacher(\"Muhammad\", 'Khan', \"Information Security\")\n",
    "print(teacher_obj)            \n",
    "print(teacher_obj.__str__())  \n",
    "print(teacher_obj.__repr__()) \n",
    "                              "
   ]
  },
  {
   "cell_type": "code",
   "execution_count": 94,
   "metadata": {},
   "outputs": [],
   "source": []
  },
  {
   "cell_type": "code",
   "execution_count": 292,
   "metadata": {},
   "outputs": [],
   "source": [
    "f = open(\"train.csv\")\n",
    "line = f.readline()\n",
    "\n",
    "while(line):\n",
    "    print(line)\n",
    "    line = f.readline()"
   ]
  },
  {
   "cell_type": "code",
   "execution_count": 285,
   "metadata": {},
   "outputs": [
    {
     "name": "stdout",
     "output_type": "stream",
     "text": [
      "Hello, World!\n"
     ]
    }
   ],
   "source": [
    "f = open(\"TestFile.txt\", \"w\")\n",
    "f.write(\"Hello, World!\")\n",
    "f.close()\n",
    "\n",
    "f = open(\"TestFile.txt\", \"r\")\n",
    "print(f.read())\n",
    "f.close()"
   ]
  },
  {
   "cell_type": "code",
   "execution_count": 286,
   "metadata": {},
   "outputs": [
    {
     "name": "stdout",
     "output_type": "stream",
     "text": [
      "Hello, World!\n",
      "Again Hello, World!\n"
     ]
    }
   ],
   "source": [
    "f = open(\"TestFile.txt\", \"a\")\n",
    "f.write(\"\\nAgain Hello, World!\")\n",
    "f.close()\n",
    "\n",
    "f = open(\"TestFile.txt\", \"r\")\n",
    "print(f.read())\n",
    "f.close()"
   ]
  },
  {
   "cell_type": "code",
   "execution_count": 287,
   "metadata": {},
   "outputs": [
    {
     "name": "stdout",
     "output_type": "stream",
     "text": [
      "Hello, World!\n",
      "Again Hello, World!\n"
     ]
    }
   ],
   "source": [
    "\n",
    "\n",
    "with open(\"TestFile.txt\", \"r\") as f:\n",
    "    print(f.read())\n",
    "\n",
    "\n"
   ]
  },
  {
   "cell_type": "code",
   "execution_count": 288,
   "metadata": {},
   "outputs": [
    {
     "name": "stdout",
     "output_type": "stream",
     "text": [
      "File removed\n"
     ]
    }
   ],
   "source": [
    "\n",
    "f = open('Train.csv', 'w')\n",
    "\n",
    "import os\n",
    "if os.path.exists(\"TestFile.txt\"):\n",
    "    os.remove(\"TestFile.txt\")\n",
    "    print(\"File removed\")\n",
    "else:\n",
    "    print(\"There is no such file exist\")"
   ]
  },
  {
   "cell_type": "code",
   "execution_count": 289,
   "metadata": {},
   "outputs": [
    {
     "name": "stdout",
     "output_type": "stream",
     "text": [
      "There is no such file exist\n"
     ]
    }
   ],
   "source": [
    "\n",
    "if os.path.exists(\"Trani.csv\"):\n",
    "    os.remove(\"TestFile.txt\")\n",
    "    print(\"File removed\")\n",
    "else:\n",
    "    print(\"There is no such file exist\")"
   ]
  },
  {
   "cell_type": "code",
   "execution_count": 290,
   "metadata": {},
   "outputs": [],
   "source": [
    "\n",
    "\n",
    "import os\n",
    "os.mkdir(\"mydir\")\n"
   ]
  },
  {
   "cell_type": "code",
   "execution_count": 291,
   "metadata": {},
   "outputs": [
    {
     "name": "stdout",
     "output_type": "stream",
     "text": [
      "Deleted\n"
     ]
    }
   ],
   "source": [
    "\n",
    "\n",
    "import os\n",
    "if os.path.exists(\"mydir\"):\n",
    "    os.rmdir(\"mydir\")\n",
    "    print(\"Deleted\")"
   ]
  },
  {
   "cell_type": "code",
   "execution_count": null,
   "metadata": {},
   "outputs": [],
   "source": []
  }
 ],
 "metadata": {
  "kernelspec": {
   "display_name": "Python 3",
   "language": "python",
   "name": "python3"
  },
  "language_info": {
   "codemirror_mode": {
    "name": "ipython",
    "version": 3
   },
   "file_extension": ".py",
   "mimetype": "text/x-python",
   "name": "python",
   "nbconvert_exporter": "python",
   "pygments_lexer": "ipython3",
   "version": "3.11.9"
  }
 },
 "nbformat": 4,
 "nbformat_minor": 2
}
